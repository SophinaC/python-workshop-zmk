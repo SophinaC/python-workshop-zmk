{
 "cells": [
  {
   "cell_type": "markdown",
   "metadata": {
    "slideshow": {
     "slide_type": "slide"
    }
   },
   "source": [
    "# Introduction to scientific computing with Python\n"
   ]
  },
  {
   "cell_type": "markdown",
   "metadata": {
    "slideshow": {
     "slide_type": "slide"
    }
   },
   "source": [
    "***\n",
    "## Why Python?"
   ]
  },
  {
   "cell_type": "markdown",
   "metadata": {
    "slideshow": {
     "slide_type": "subslide"
    }
   },
   "source": [
    "### A powerful, all-purpose language with a great syntax (*\"executable pseudocode\"*)\n",
    "\n",
    "<img src=\"./_img/xkcd_learning_curve_wave_python.png\" width=\"700px\"> \n",
    "\n",
    "Source: [Fabien Maussion](http://fabienmaussion.info/)"
   ]
  },
  {
   "cell_type": "markdown",
   "metadata": {
    "slideshow": {
     "slide_type": "subslide"
    }
   },
   "source": [
    "### Interoperability with other languages\n",
    "\n",
    "[Guido van Rossum](https://gvanrossum.github.io//index.html) (creator of Python formally known as Benevolent Dictator For Life (BDFL))\n",
    "\n",
    "_... I never intended Python to be the primary language for programmers ..._\n",
    "\n",
    "_... bridge the gap between the shell and C ..._\n",
    "\n",
    "\n",
    "<img src=\"./_img/guido.png\" width=\"500px\">\n",
    "\n",
    "Source: [SD Times](https://sdtimes.com/guido-van-rossum/python-creator-proposes-type-annotations-programming-language/) (2014\n",
    ") & [A Conversation with Guido van Rossum](https://www.artima.com/intv/)  (2002)"
   ]
  },
  {
   "cell_type": "markdown",
   "metadata": {
    "slideshow": {
     "slide_type": "subslide"
    }
   },
   "source": [
    "### Open and encouraging community\n",
    "\n",
    "<img src=\"./_img/growth_major_languages-1-1400x1200.png\"  width=\"650px\">\n",
    "\n",
    "Source: [Blog post by David Robinson](https://stackoverflow.blog/2017/09/06/incredible-growth-python/) (September 6, 2017)\n",
    "\n",
    "\n"
   ]
  },
  {
   "cell_type": "markdown",
   "metadata": {
    "slideshow": {
     "slide_type": "subslide"
    }
   },
   "source": [
    "### Batteries included and third-party modules\n",
    "\n",
    "<img src=\"https://imgs.xkcd.com/comics/python.png\" width=\"500px;\">\n",
    "\n",
    "Source: [xkcd](https://xkcd.com/353/)"
   ]
  },
  {
   "cell_type": "markdown",
   "metadata": {},
   "source": [
    "***\n",
    "## Reproducible Research\n",
    "\n",
    "\n",
    "\n",
    "The term [reproducible research](https://en.wikipedia.org/wiki/Reproducibility#Reproducible_research) refers to the idea that the ultimate product of academic research is the paper along with the laboratory notebooks and full computational environment used to produce the results in the paper such as the code, data, etc. that can be used to reproduce the results and create new work based on the research. Typical examples of reproducible research comprise compendia of data, code and text files, often organised around an __[R Markdown source document](https://rmarkdown.rstudio.com/)__ or a __[Jupyter notebook](http://jupyter.org/)__.\n"
   ]
  },
  {
   "cell_type": "markdown",
   "metadata": {},
   "source": [
    "<img src=\"./_img/pipeline.png\" width=\"800px;\">\n",
    "\n",
    "(after Peng et al. 2006)"
   ]
  },
  {
   "cell_type": "markdown",
   "metadata": {},
   "source": [
    "***\n",
    "## Literate Programming"
   ]
  },
  {
   "cell_type": "markdown",
   "metadata": {},
   "source": [
    "[Literate programming](https://en.wikipedia.org/wiki/Literate_programming) is a programming paradigm introduced by [Donald Knuth](https://en.wikipedia.org/wiki/Donald_Knuth) in which a program is given as an explanation of the program logic in a natural language, interspersed with snippets of macros and traditional source code.\n",
    "\n",
    "The literate programming paradigm enables programmers to develop programs in the order demanded by the logic and flow of their thoughts. Literate programs are written much like the text of an essay, in which macros are included to hide abstractions and traditional source code."
   ]
  },
  {
   "cell_type": "markdown",
   "metadata": {},
   "source": [
    "### _The Scientific Paper Is Obsolete_\n",
    "by James Somers, [The Atlantic, Apr 5, 2018](https://www.theatlantic.com/science/archive/2018/04/the-scientific-paper-is-obsolete/556676/)"
   ]
  },
  {
   "cell_type": "code",
   "execution_count": 12,
   "metadata": {},
   "outputs": [
    {
     "data": {
      "text/html": [
       "\n",
       "        <iframe\n",
       "            width=\"100%\"\n",
       "            height=\"450\"\n",
       "            src=\"https://www.theatlantic.com/science/archive/2018/04/the-scientific-paper-is-obsolete/556676/\"\n",
       "            frameborder=\"0\"\n",
       "            allowfullscreen\n",
       "        ></iframe>\n",
       "        "
      ],
      "text/plain": [
       "<IPython.lib.display.IFrame at 0x107a23b70>"
      ]
     },
     "execution_count": 12,
     "metadata": {},
     "output_type": "execute_result"
    }
   ],
   "source": [
    "from IPython.display import IFrame    \n",
    "IFrame('https://www.theatlantic.com/science/archive/2018/04/the-scientific-paper-is-obsolete/556676/', width=\"100%\", height=450)"
   ]
  },
  {
   "cell_type": "markdown",
   "metadata": {},
   "source": [
    "***\n",
    "## Data Science"
   ]
  },
  {
   "cell_type": "markdown",
   "metadata": {
    "slideshow": {
     "slide_type": "slide"
    }
   },
   "source": [
    "### What is data science?\n",
    "   "
   ]
  },
  {
   "cell_type": "markdown",
   "metadata": {
    "slideshow": {
     "slide_type": "fragment"
    }
   },
   "source": [
    "_Data science [...] is an **interdisciplinary field of scientific methods, processes, and systems** to extract **knowledge or insights from data**[...]_ ([Wikipedia](https://en.wikipedia.org/wiki/Data_science))"
   ]
  },
  {
   "cell_type": "markdown",
   "metadata": {
    "slideshow": {
     "slide_type": "subslide"
    }
   },
   "source": [
    "_It employs techniques and theories drawn from many fields within the broad areas of_\n",
    "* _mathematics_, \n",
    "* _statistics_, \n",
    "* _information science_, and \n",
    "* _computer science_, in particular from the subdomains of \n",
    "    * _machine learning_, \n",
    "    * _classification_, \n",
    "    * _cluster analysis_, \n",
    "    * _data mining_, \n",
    "    * _databases_, and \n",
    "    * _visualization._"
   ]
  },
  {
   "cell_type": "markdown",
   "metadata": {
    "slideshow": {
     "slide_type": "subslide"
    }
   },
   "source": [
    "The [Harvard Business Review](https://hbr.org/2012/10/data-scientist-the-sexiest-job-of-the-21st-century)  (2012) referred to data science as \"**The Sexiest Job of the 21st Century**\"."
   ]
  },
  {
   "cell_type": "markdown",
   "metadata": {
    "slideshow": {
     "slide_type": "fragment"
    }
   },
   "source": [
    "<img src=\"./_img/data_science.png\"  width=\"600px\"> \n",
    "\n",
    "Source: [Michael Barber](https://towardsdatascience.com/introduction-to-statistics-e9d72d818745)"
   ]
  }
 ],
 "metadata": {
  "celltoolbar": "Slideshow",
  "kernelspec": {
   "display_name": "Python 3",
   "language": "python",
   "name": "python3"
  },
  "language_info": {
   "codemirror_mode": {
    "name": "ipython",
    "version": 3
   },
   "file_extension": ".py",
   "mimetype": "text/x-python",
   "name": "python",
   "nbconvert_exporter": "python",
   "pygments_lexer": "ipython3",
   "version": "3.7.0"
  },
  "livereveal": {
   "scroll": true,
   "start_slideshow_at": "selected"
  }
 },
 "nbformat": 4,
 "nbformat_minor": 2
}
