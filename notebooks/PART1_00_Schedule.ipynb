{
 "cells": [
  {
   "cell_type": "markdown",
   "metadata": {
    "slideshow": {
     "slide_type": "slide"
    }
   },
   "source": [
    "#  Python workshop series at Charité - Universitätsmedizin Berlin, Department of Restorative and Preventive Dentistry\n",
    "\n",
    "## Part 1\n",
    "\n",
    "October 19 and 20th, 2018   \n",
    "\n",
    "\n",
    "\n",
    "**Instructors**   \n",
    "Joachim Krois (Charité $-$ Universitätsmedizin Berlin)   \n",
    "email: joachim.krois@charite.de\n",
    "\n",
    "Kai Winkler (Charité $-$ Universitätsmedizin Berlin)   \n",
    "email: kai.winkler@charite.de   \n"
   ]
  },
  {
   "cell_type": "markdown",
   "metadata": {
    "slideshow": {
     "slide_type": "slide"
    }
   },
   "source": [
    "# Schedule\n",
    "\n",
    "\n",
    "* __Getting started with Python__\n",
    "  * Set up of a computational environment\n",
    "  * Introduction to scientific computing with Python\n",
    "  * Python's scientific stack\n",
    "  * IDE's and the Jupyter ecosystem\n",
    "  \n",
    "\n",
    "* __Python 101__\n",
    "  * Objects\n",
    "  * Operations\n",
    "  * Functions\n",
    "  * Methods\n",
    "  * Indexing and Slicing\n",
    "  * Collections\n",
    "  * Loops\n",
    "  * List comprehensions\n",
    "  * Control Flow\n",
    "  * I/O\n",
    "  * User-defined functions\n",
    "  * Code refactoring"
   ]
  },
  {
   "cell_type": "markdown",
   "metadata": {},
   "source": [
    "## Goals of this workshop series\n",
    "\n",
    "* Computational Thinking\n",
    "* Basic understanding of the programming language Python\n",
    "* Show you tools that help you to become more productive \n",
    "\n",
    "## This workshop ...\n",
    "* ... __does not__ make you a programmer or software engineer\n",
    "* ... __does not__ teach you all nitty gritty details of Python\n",
    "* ... __is not__ the end of your journy but hopfully the start of it"
   ]
  }
 ],
 "metadata": {
  "celltoolbar": "Slideshow",
  "kernelspec": {
   "display_name": "Python 3",
   "language": "python",
   "name": "python3"
  },
  "language_info": {
   "codemirror_mode": {
    "name": "ipython",
    "version": 3
   },
   "file_extension": ".py",
   "mimetype": "text/x-python",
   "name": "python",
   "nbconvert_exporter": "python",
   "pygments_lexer": "ipython3",
   "version": "3.6.6"
  },
  "livereveal": {
   "scroll": true,
   "start_slideshow_at": "selected"
  }
 },
 "nbformat": 4,
 "nbformat_minor": 2
}
