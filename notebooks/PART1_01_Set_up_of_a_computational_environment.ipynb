{
 "cells": [
  {
   "cell_type": "markdown",
   "metadata": {
    "slideshow": {
     "slide_type": "slide"
    }
   },
   "source": [
    "# Set up of a computational environment\n",
    "\n",
    "This workshop is a hands-on workshop! Hence, we first have to prepare our computational environment."
   ]
  },
  {
   "cell_type": "markdown",
   "metadata": {
    "slideshow": {
     "slide_type": "subslide"
    }
   },
   "source": [
    "## Python and the package manager Conda\n",
    "\n",
    "We use Python throughout the workshop. We further use some additional packages, and installing them individually can be a bit difficult. Hence, we recommend to install [Miniconda](https://conda.io/docs/), which comes with Python (please use 3.x) and the package manager Conda.      \n",
    "(_Note that Conda is a part of the [Anaconda](https://www.anaconda.com/download/) distribution. If you are already using the Anaconda distribution you may skip installing Miniconda!_)\n",
    "\n",
    "Download Miniconda [here](https://conda.io/miniconda.html) and follow the installation instructions. \n",
    "\n",
    "It is recommended to add the [conda-forge channel](https://conda-forge.org/) to your conda channels:\n",
    "\n",
    "    conda config --add channels conda-forge "
   ]
  },
  {
   "cell_type": "markdown",
   "metadata": {
    "slideshow": {
     "slide_type": "subslide"
    }
   },
   "source": [
    "## Creating a conda environment\n",
    "\n",
    "Once you have installed the Conda package manager, we create a virtual environment by installing Python and all other packages used during this workshop.\n",
    "\n",
    "Move to your working directory and type one of the following commands:\n",
    "\n",
    "\n",
    "    conda create -n python-part1 python=3  \n"
   ]
  },
  {
   "cell_type": "markdown",
   "metadata": {
    "slideshow": {
     "slide_type": "subslide"
    }
   },
   "source": [
    "\n",
    "## Fire up the environment\n",
    "\n",
    "First, we **activate our recently created environment** by executing one of the following commands:\n",
    "\n",
    "@LINUX & MAC OS\n",
    "\n",
    "    source activate python-part1\n",
    "    \n",
    "@WINDOS    \n",
    "\n",
    "    activate python-part1\n",
    "   \n",
    "***\n",
    "\n"
   ]
  }
 ],
 "metadata": {
  "celltoolbar": "Slideshow",
  "kernelspec": {
   "display_name": "Python 3",
   "language": "python",
   "name": "python3"
  },
  "language_info": {
   "codemirror_mode": {
    "name": "ipython",
    "version": 3
   },
   "file_extension": ".py",
   "mimetype": "text/x-python",
   "name": "python",
   "nbconvert_exporter": "python",
   "pygments_lexer": "ipython3",
   "version": "3.7.0"
  },
  "livereveal": {
   "scroll": true,
   "start_slideshow_at": "selected"
  }
 },
 "nbformat": 4,
 "nbformat_minor": 2
}
