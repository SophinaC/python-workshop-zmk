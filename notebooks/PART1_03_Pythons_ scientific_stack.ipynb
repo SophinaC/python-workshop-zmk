{
 "cells": [
  {
   "cell_type": "markdown",
   "metadata": {
    "slideshow": {
     "slide_type": "slide"
    }
   },
   "source": [
    "# Python's scientific stack"
   ]
  },
  {
   "cell_type": "markdown",
   "metadata": {
    "slideshow": {
     "slide_type": "subslide"
    }
   },
   "source": [
    "## Python ecosystem\n",
    "\n",
    "\n",
    "\n",
    "<img src=\"./_img/python_ecosystem.png\"  width=\"900px\">\n",
    "\n",
    "***\n",
    "    conda install <YOUR-PACKAGE-OF-CHOICE> # conda package manager\n",
    "    pip install <YOUR-PACKAGE-OF-CHOICE>   # tool for installing Python packages\n",
    "    \n",
    "    >>> import <YOUR-PACKAGE-OF-CHOICE>"
   ]
  },
  {
   "cell_type": "markdown",
   "metadata": {},
   "source": [
    "## Python for other domains\n",
    "\n",
    "\n",
    "> _If you are interested in other domain specific stacks consider [Awesome Python](https://awesome-python.com/), a curated list of Python frameworks, libraries, software and resources._"
   ]
  }
 ],
 "metadata": {
  "celltoolbar": "Slideshow",
  "kernelspec": {
   "display_name": "Python 3",
   "language": "python",
   "name": "python3"
  },
  "language_info": {
   "codemirror_mode": {
    "name": "ipython",
    "version": 3
   },
   "file_extension": ".py",
   "mimetype": "text/x-python",
   "name": "python",
   "nbconvert_exporter": "python",
   "pygments_lexer": "ipython3",
   "version": "3.6.6"
  },
  "livereveal": {
   "scroll": true,
   "start_slideshow_at": "selected"
  }
 },
 "nbformat": 4,
 "nbformat_minor": 2
}
