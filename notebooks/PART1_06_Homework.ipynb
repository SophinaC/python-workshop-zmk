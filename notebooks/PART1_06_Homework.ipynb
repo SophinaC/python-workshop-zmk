{
 "cells": [
  {
   "cell_type": "markdown",
   "metadata": {},
   "source": [
    "# Homework\n",
    "\n",
    "__till next Session on 2<sup>nd</sup> and 3<sup>rd</sup> of November 2018__\n",
    "\n",
    "***"
   ]
  },
  {
   "cell_type": "markdown",
   "metadata": {},
   "source": [
    "### 1. Think about one problem you faced or you are facing with respect to your research.\n",
    "\n",
    "*** \n",
    "### 2. Go on the internet and try to figure out if Python may help you with that problem.\n",
    "\n",
    "***\n",
    "\n",
    "### 3a. Is so, try to figure out which Python module or library offers helper functions to tackle your problem.\n",
    "\n",
    "*** \n",
    "\n",
    "### 3b. If not, pick any problem you came across during your search.\n",
    "\n",
    "***\n",
    "\n",
    "### 4. Provide a small example and sample code and be prepared to explain to us this particualr problem and how it may eventually be solved.\n"
   ]
  }
 ],
 "metadata": {
  "kernelspec": {
   "display_name": "Python 3",
   "language": "python",
   "name": "python3"
  },
  "language_info": {
   "codemirror_mode": {
    "name": "ipython",
    "version": 3
   },
   "file_extension": ".py",
   "mimetype": "text/x-python",
   "name": "python",
   "nbconvert_exporter": "python",
   "pygments_lexer": "ipython3",
   "version": "3.6.6"
  }
 },
 "nbformat": 4,
 "nbformat_minor": 2
}
